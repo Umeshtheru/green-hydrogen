{
  "nbformat": 4,
  "nbformat_minor": 0,
  "metadata": {
    "colab": {
      "provenance": [],
      "authorship_tag": "ABX9TyMoMAa59syfhPmnLatU7NNw",
      "include_colab_link": true
    },
    "kernelspec": {
      "name": "python3",
      "display_name": "Python 3"
    },
    "language_info": {
      "name": "python"
    }
  },
  "cells": [
    {
      "cell_type": "markdown",
      "metadata": {
        "id": "view-in-github",
        "colab_type": "text"
      },
      "source": [
        "<a href=\"https://colab.research.google.com/github/Umeshtheru/green-hydrogen/blob/main/DL_NN_Breast_cancer.ipynb\" target=\"_parent\"><img src=\"https://colab.research.google.com/assets/colab-badge.svg\" alt=\"Open In Colab\"/></a>"
      ]
    },
    {
      "cell_type": "code",
      "execution_count": 240,
      "metadata": {
        "id": "buk2FYx0nndR"
      },
      "outputs": [],
      "source": [
        "import numpy as np\n",
        "import pandas as pd\n",
        "import matplotlib.pyplot as plt\n",
        "import sklearn.datasets\n",
        "from sklearn.model_selection import train_test_split\n",
        "import tensorflow as tf\n",
        "tf.random.set_seed(3)\n",
        "from tensorflow import keras\n",
        "from sklearn.preprocessing import StandardScaler"
      ]
    },
    {
      "cell_type": "code",
      "source": [
        "breast_cancer_dataset=sklearn.datasets.load_breast_cancer()"
      ],
      "metadata": {
        "id": "z7q6pf_6oYzl"
      },
      "execution_count": 241,
      "outputs": []
    },
    {
      "cell_type": "code",
      "source": [
        "data_frame=pd.DataFrame(breast_cancer_dataset.data,columns=breast_cancer_dataset.feature_names)\n",
        "data_frame['label']=breast_cancer_dataset.target\n",
        "data_frame.isnull().sum()\n",
        "data_frame.groupby('label').mean()\n",
        "data_frame['label'].value_counts()"
      ],
      "metadata": {
        "colab": {
          "base_uri": "https://localhost:8080/"
        },
        "id": "igyObB3Yq3Ba",
        "outputId": "579d6060-de13-4d73-9c50-f8dbc8ccecf8"
      },
      "execution_count": 242,
      "outputs": [
        {
          "output_type": "execute_result",
          "data": {
            "text/plain": [
              "1    357\n",
              "0    212\n",
              "Name: label, dtype: int64"
            ]
          },
          "metadata": {},
          "execution_count": 242
        }
      ]
    },
    {
      "cell_type": "code",
      "source": [
        "X=data_frame.drop(columns='label',axis=1)\n",
        "Y=data_frame['label']\n"
      ],
      "metadata": {
        "id": "2BXij4RJuNKN"
      },
      "execution_count": 243,
      "outputs": []
    },
    {
      "cell_type": "code",
      "source": [
        "X_train,X_test,Y_train,Y_test=train_test_split(X, Y, test_size=0.2,random_state=2)\n",
        "print(X.shape,X_train.shape,X_test.shape)"
      ],
      "metadata": {
        "colab": {
          "base_uri": "https://localhost:8080/"
        },
        "id": "3hPwrWr0u2N9",
        "outputId": "443e8a25-4be3-4d89-8fb6-81b19159751f"
      },
      "execution_count": 244,
      "outputs": [
        {
          "output_type": "stream",
          "name": "stdout",
          "text": [
            "(569, 30) (455, 30) (114, 30)\n"
          ]
        }
      ]
    },
    {
      "cell_type": "code",
      "source": [
        "scaler = StandardScaler()\n",
        "X_train_std = scaler.fit_transform(X_train)\n",
        "X_test_std = scaler.transform(X_test)\n",
        "X_train_std"
      ],
      "metadata": {
        "colab": {
          "base_uri": "https://localhost:8080/"
        },
        "id": "ri4Vugf57IEr",
        "outputId": "21cbdc12-e04c-4c0c-b4f0-f41eb8f30dde"
      },
      "execution_count": 245,
      "outputs": [
        {
          "output_type": "execute_result",
          "data": {
            "text/plain": [
              "array([[-0.01330339,  1.7757658 , -0.01491962, ..., -0.13236958,\n",
              "        -1.08014517, -0.03527943],\n",
              "       [-0.8448276 , -0.6284278 , -0.87702746, ..., -1.11552632,\n",
              "        -0.85773964, -0.72098905],\n",
              "       [ 1.44755936,  0.71180168,  1.47428816, ...,  0.87583964,\n",
              "         0.4967602 ,  0.46321706],\n",
              "       ...,\n",
              "       [-0.46608541, -1.49375484, -0.53234924, ..., -1.32388956,\n",
              "        -1.02997851, -0.75145272],\n",
              "       [-0.50025764, -1.62161319, -0.527814  , ..., -0.0987626 ,\n",
              "         0.35796577, -0.43906159],\n",
              "       [ 0.96060511,  1.21181916,  1.00427242, ...,  0.8956983 ,\n",
              "        -1.23064515,  0.50697397]])"
            ]
          },
          "metadata": {},
          "execution_count": 245
        }
      ]
    },
    {
      "cell_type": "markdown",
      "source": [
        "setting of layers of neural netwrok"
      ],
      "metadata": {
        "id": "0iMEdxLHxtBa"
      }
    },
    {
      "cell_type": "markdown",
      "source": [],
      "metadata": {
        "id": "az7x3n7V7GgT"
      }
    },
    {
      "cell_type": "code",
      "source": [
        "model=keras.Sequential([\n",
        "                        keras.layers.Flatten(input_shape=(30,)),\n",
        "                        keras.layers.Dense(20,activation='relu'),\n",
        "                        keras.layers.Dense(2,activation='sigmoid')\n",
        "\n",
        "])"
      ],
      "metadata": {
        "id": "xTmDPSrkyBgL"
      },
      "execution_count": 246,
      "outputs": []
    },
    {
      "cell_type": "code",
      "source": [
        "model.compile(optimizer='adam',\n",
        "              loss='sparse_categorical_crossentropy',\n",
        "              metrics=['accuracy'])"
      ],
      "metadata": {
        "id": "qTmv4_TV1oJ3"
      },
      "execution_count": 247,
      "outputs": []
    },
    {
      "cell_type": "code",
      "source": [
        "history = model.fit(X_train_std,Y_train,validation_split=0.1, epochs=10)"
      ],
      "metadata": {
        "colab": {
          "base_uri": "https://localhost:8080/"
        },
        "id": "fZ-qRGFk4TwY",
        "outputId": "0c33a8e3-c3fb-4519-b49e-32db154d3304"
      },
      "execution_count": 248,
      "outputs": [
        {
          "output_type": "stream",
          "name": "stdout",
          "text": [
            "Epoch 1/10\n",
            "13/13 [==============================] - 1s 21ms/step - loss: 0.4991 - accuracy: 0.7653 - val_loss: 0.3334 - val_accuracy: 0.9565\n",
            "Epoch 2/10\n",
            "13/13 [==============================] - 0s 6ms/step - loss: 0.3678 - accuracy: 0.8778 - val_loss: 0.2512 - val_accuracy: 0.9565\n",
            "Epoch 3/10\n",
            "13/13 [==============================] - 0s 4ms/step - loss: 0.2837 - accuracy: 0.9193 - val_loss: 0.2022 - val_accuracy: 0.9565\n",
            "Epoch 4/10\n",
            "13/13 [==============================] - 0s 4ms/step - loss: 0.2334 - accuracy: 0.9438 - val_loss: 0.1696 - val_accuracy: 0.9783\n",
            "Epoch 5/10\n",
            "13/13 [==============================] - 0s 5ms/step - loss: 0.1979 - accuracy: 0.9462 - val_loss: 0.1490 - val_accuracy: 0.9783\n",
            "Epoch 6/10\n",
            "13/13 [==============================] - 0s 6ms/step - loss: 0.1742 - accuracy: 0.9462 - val_loss: 0.1336 - val_accuracy: 0.9783\n",
            "Epoch 7/10\n",
            "13/13 [==============================] - 0s 4ms/step - loss: 0.1567 - accuracy: 0.9511 - val_loss: 0.1223 - val_accuracy: 0.9783\n",
            "Epoch 8/10\n",
            "13/13 [==============================] - 0s 6ms/step - loss: 0.1423 - accuracy: 0.9584 - val_loss: 0.1141 - val_accuracy: 0.9783\n",
            "Epoch 9/10\n",
            "13/13 [==============================] - 0s 4ms/step - loss: 0.1312 - accuracy: 0.9609 - val_loss: 0.1069 - val_accuracy: 0.9783\n",
            "Epoch 10/10\n",
            "13/13 [==============================] - 0s 6ms/step - loss: 0.1215 - accuracy: 0.9658 - val_loss: 0.1023 - val_accuracy: 0.9783\n"
          ]
        }
      ]
    },
    {
      "cell_type": "code",
      "source": [
        "plt.plot(history.history['accuracy'])\n",
        "plt.plot(history.history['val_accuracy'])\n",
        "plt.title('model accuracy')\n",
        "plt.ylabel('accuracy')\n",
        "plt.xlabel('epoch')\n",
        "plt.legend(['training data','validation data'], loc='lower right')"
      ],
      "metadata": {
        "colab": {
          "base_uri": "https://localhost:8080/",
          "height": 489
        },
        "id": "DIPoo7KZ-zw0",
        "outputId": "ccea1b01-1ea9-430a-b1a9-71b4eb2ac6fa"
      },
      "execution_count": 249,
      "outputs": [
        {
          "output_type": "execute_result",
          "data": {
            "text/plain": [
              "<matplotlib.legend.Legend at 0x7d40a47987c0>"
            ]
          },
          "metadata": {},
          "execution_count": 249
        },
        {
          "output_type": "display_data",
          "data": {
            "text/plain": [
              "<Figure size 640x480 with 1 Axes>"
            ],
            "image/png": "[encoded data removed]"
          },
          "metadata": {}
        }
      ]
    },
    {
      "cell_type": "markdown",
      "source": [
        "Accuracy of the model on test data"
      ],
      "metadata": {
        "id": "erlhL03ZAuAD"
      }
    },
    {
      "cell_type": "code",
      "source": [
        "loss,accuracy = model.evaluate(X_test_std,Y_test)\n",
        "print(accuracy)"
      ],
      "metadata": {
        "colab": {
          "base_uri": "https://localhost:8080/"
        },
        "id": "m6D50T4jA0xC",
        "outputId": "fe5deff8-856c-4204-a85c-3b5184c42bf9"
      },
      "execution_count": 250,
      "outputs": [
        {
          "output_type": "stream",
          "name": "stdout",
          "text": [
            "4/4 [==============================] - 0s 5ms/step - loss: 0.1247 - accuracy: 0.9561\n",
            "0.9561403393745422\n"
          ]
        }
      ]
    },
    {
      "cell_type": "code",
      "source": [
        "Y_pred = model.predict(X_test_std)\n"
      ],
      "metadata": {
        "colab": {
          "base_uri": "https://localhost:8080/"
        },
        "id": "LuyrRl6dBqwS",
        "outputId": "9f9b98f1-7b2c-41f8-8c76-9b2df824b602"
      },
      "execution_count": 251,
      "outputs": [
        {
          "output_type": "stream",
          "name": "stdout",
          "text": [
            "4/4 [==============================] - 0s 3ms/step\n"
          ]
        }
      ]
    },
    {
      "cell_type": "markdown",
      "source": [
        "#argmax function\n",
        "My_list=[10,20,30]\n",
        "np.argmax(mylist)\n",
        "ans:2\n",
        "argmax reprasents the max value index\n"
      ],
      "metadata": {
        "id": "_TUAdhHEEF5q"
      }
    },
    {
      "cell_type": "code",
      "source": [
        "Y_pred_labels=[np.argmax(i)for i in Y_pred]\n",
        "print(Y_pred_labels)"
      ],
      "metadata": {
        "colab": {
          "base_uri": "https://localhost:8080/"
        },
        "id": "rwTrqahLDMtK",
        "outputId": "3d3eb5cc-a378-474b-b8e2-2adc73838cce"
      },
      "execution_count": 252,
      "outputs": [
        {
          "output_type": "stream",
          "name": "stdout",
          "text": [
            "[1, 0, 1, 0, 1, 0, 1, 1, 1, 1, 1, 1, 1, 1, 1, 0, 1, 1, 1, 0, 1, 1, 1, 1, 1, 0, 1, 1, 0, 0, 1, 1, 1, 0, 0, 1, 1, 1, 1, 1, 0, 0, 1, 1, 0, 1, 1, 1, 0, 0, 1, 0, 0, 1, 1, 0, 1, 1, 0, 1, 1, 0, 1, 0, 0, 1, 0, 0, 1, 0, 0, 0, 1, 0, 1, 0, 1, 1, 1, 0, 0, 0, 0, 1, 1, 0, 1, 1, 1, 0, 1, 1, 1, 0, 0, 1, 0, 0, 1, 1, 1, 0, 0, 0, 1, 1, 1, 1, 1, 1, 0, 0, 0, 0]\n"
          ]
        }
      ]
    },
    {
      "cell_type": "markdown",
      "source": [
        "Building the predictive system"
      ],
      "metadata": {
        "id": "2eu-6ayRFDV8"
      }
    },
    {
      "cell_type": "code",
      "source": [
        "input_data=(20.57,17.22,132.9,0.084,0.078,0.0869,0.07017,0.1812,0.0566,0.5435,0.7339,3.398,74.08,0.0052,0.013,0.0186,0.0134,0.01389,0.003532,24.99,23.41,158.80,1956.0,0.12380,0.18660,0.2416,0.1860,0.2750,0.08902,9)\n",
        "input_data_as_numpy_array = np.asarray(input_data)\n",
        "input_data_reshaped = input_data_as_numpy_array.reshape(1,-1)\n",
        "input_data_stds = scaler.transform(input_data_reshaped)\n",
        "print(input_data_stds)\n",
        "prediction= model.predict(input_data_stds)\n",
        "prediction_label=[np.argmax(prediction)]\n",
        "print(prediction_label)\n",
        "if(prediction_label[0]==0):\n",
        "  print('The tumor is Malignate')\n",
        "else:\n",
        "  print('The tumor is benin')\n"
      ],
      "metadata": {
        "colab": {
          "base_uri": "https://localhost:8080/"
        },
        "id": "sLkJRQT5FP4R",
        "outputId": "cd27eced-3711-41be-c0e3-e746a7a14005"
      },
      "execution_count": 254,
      "outputs": [
        {
          "output_type": "stream",
          "name": "stdout",
          "text": [
            "[[ 1.84338767e+00 -4.91436713e-01  1.69692720e+00 -1.84423719e+00\n",
            "  -1.26631282e+00 -3.17535094e-01 -2.13852379e-01  3.45446080e+00\n",
            "  -4.65146429e+00  6.99364545e+01  1.20447312e+00  4.03747618e+00\n",
            "   3.48480806e+01 -8.46011159e-01  1.99278983e+00 -3.77313197e-01\n",
            "  -6.71346535e-01  3.87592786e-01 -2.11604760e+00  1.03984359e+04\n",
            "   1.52430001e+00  2.13951319e+01  5.61328646e+01 -1.56581991e+00\n",
            "   2.35871744e+00 -7.38807551e-02 -4.01637567e-01  2.46758812e+00\n",
            "  -3.35403266e+00  4.93852333e+02]]\n",
            "1/1 [==============================] - 0s 20ms/step\n",
            "[0]\n",
            "The tumor is Malignate\n"
          ]
        },
        {
          "output_type": "stream",
          "name": "stderr",
          "text": [
            "/usr/local/lib/python3.10/dist-packages/sklearn/base.py:439: UserWarning: X does not have valid feature names, but StandardScaler was fitted with feature names\n",
            "  warnings.warn(\n"
          ]
        }
      ]
    }
  ]
}